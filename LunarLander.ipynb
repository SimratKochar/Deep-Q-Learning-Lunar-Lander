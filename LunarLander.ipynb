{
 "cells": [
  {
   "cell_type": "markdown",
   "metadata": {},
   "source": [
    "# Deep Q-Learning for Lunar Landing"
   ]
  },
  {
   "cell_type": "markdown",
   "metadata": {},
   "source": [
    "## Part 0 - Installing the required packages and importing libraries"
   ]
  },
  {
   "cell_type": "markdown",
   "metadata": {},
   "source": [
    "### Installing Gymnasium"
   ]
  },
  {
   "cell_type": "code",
   "execution_count": null,
   "metadata": {},
   "outputs": [
    {
     "name": "stdout",
     "output_type": "stream",
     "text": [
      "Requirement already satisfied: gymnasium in ./anaconda3/lib/python3.11/site-packages (1.1.1)\n",
      "Requirement already satisfied: numpy>=1.21.0 in ./anaconda3/lib/python3.11/site-packages (from gymnasium) (1.26.4)\n",
      "Requirement already satisfied: cloudpickle>=1.2.0 in ./anaconda3/lib/python3.11/site-packages (from gymnasium) (3.0.0)\n",
      "Requirement already satisfied: typing-extensions>=4.3.0 in ./anaconda3/lib/python3.11/site-packages (from gymnasium) (4.11.0)\n",
      "Requirement already satisfied: farama-notifications>=0.0.1 in ./anaconda3/lib/python3.11/site-packages (from gymnasium) (0.0.4)\n",
      "Note: you may need to restart the kernel to use updated packages.\n",
      "Requirement already satisfied: gymnasium[accept-rom-license,atari] in ./anaconda3/lib/python3.11/site-packages (1.1.1)\n",
      "\u001b[33mWARNING: gymnasium 1.1.1 does not provide the extra 'accept-rom-license'\u001b[0m\u001b[33m\n",
      "\u001b[0mRequirement already satisfied: numpy>=1.21.0 in ./anaconda3/lib/python3.11/site-packages (from gymnasium[accept-rom-license,atari]) (1.26.4)\n",
      "Requirement already satisfied: cloudpickle>=1.2.0 in ./anaconda3/lib/python3.11/site-packages (from gymnasium[accept-rom-license,atari]) (3.0.0)\n",
      "Requirement already satisfied: typing-extensions>=4.3.0 in ./anaconda3/lib/python3.11/site-packages (from gymnasium[accept-rom-license,atari]) (4.11.0)\n",
      "Requirement already satisfied: farama-notifications>=0.0.1 in ./anaconda3/lib/python3.11/site-packages (from gymnasium[accept-rom-license,atari]) (0.0.4)\n",
      "Requirement already satisfied: ale_py>=0.9 in ./anaconda3/lib/python3.11/site-packages (from gymnasium[accept-rom-license,atari]) (0.10.2)\n",
      "Note: you may need to restart the kernel to use updated packages.\n",
      "Requirement already satisfied: swig in ./anaconda3/lib/python3.11/site-packages (4.3.0)\n",
      "Note: you may need to restart the kernel to use updated packages.\n",
      "Collecting box2d\n",
      "  Downloading Box2D-2.3.10-cp311-cp311-macosx_11_0_arm64.whl.metadata (573 bytes)\n",
      "Collecting pygame\n",
      "  Downloading pygame-2.6.1-cp311-cp311-macosx_11_0_arm64.whl.metadata (12 kB)\n",
      "Downloading Box2D-2.3.10-cp311-cp311-macosx_11_0_arm64.whl (1.3 MB)\n",
      "\u001b[2K   \u001b[90m━━━━━━━━━━━━━━━━━━━━━━━━━━━━━━━━━━━━━━━━\u001b[0m \u001b[32m1.3/1.3 MB\u001b[0m \u001b[31m9.4 MB/s\u001b[0m eta \u001b[36m0:00:00\u001b[0m\n",
      "\u001b[?25hDownloading pygame-2.6.1-cp311-cp311-macosx_11_0_arm64.whl (12.4 MB)\n",
      "\u001b[2K   \u001b[90m━━━━━━━━━━━━━━━━━━━━━━━━━━━━━━━━━━━━━━━━\u001b[0m \u001b[32m12.4/12.4 MB\u001b[0m \u001b[31m7.0 MB/s\u001b[0m eta \u001b[36m0:00:00\u001b[0ma \u001b[36m0:00:01\u001b[0m\n",
      "\u001b[?25hInstalling collected packages: box2d, pygame\n",
      "Successfully installed box2d-2.3.10 pygame-2.6.1\n",
      "Note: you may need to restart the kernel to use updated packages.\n"
     ]
    }
   ],
   "source": [
    "%pip install gymnasium\n",
    "%pip install \"gymnasium[atari, accept-rom-license]\"\n",
    "%pip install swig\n",
    "%pip install box2d pygame"
   ]
  },
  {
   "cell_type": "markdown",
   "metadata": {},
   "source": [
    "### Importing the libraries"
   ]
  },
  {
   "cell_type": "code",
   "execution_count": 1,
   "metadata": {},
   "outputs": [],
   "source": [
    "import os\n",
    "import random\n",
    "import numpy as np\n",
    "import torch\n",
    "import torch.nn as nn\n",
    "import torch.optim as optim\n",
    "import torch.nn.functional as F\n",
    "import torch.autograd as autograd\n",
    "from torch.autograd import Variable\n",
    "from collections import deque, namedtuple\n"
   ]
  },
  {
   "cell_type": "markdown",
   "metadata": {},
   "source": [
    "## Part 1 - Building the AI"
   ]
  },
  {
   "cell_type": "markdown",
   "metadata": {},
   "source": [
    "### Creating the architecture of the Neural Network"
   ]
  },
  {
   "cell_type": "code",
   "execution_count": 2,
   "metadata": {},
   "outputs": [],
   "source": [
    "class Network(nn.Module):\n",
    "\n",
    "    def __init__(self, state_size, action_size, seed = 42) -> None:\n",
    "        super(Network, self).__init__()\n",
    "        self.seed = torch.manual_seed(seed)\n",
    "        self.fc1 = nn.Linear(state_size, 64)            # first full connection between input layer and first fully connected layer\n",
    "        self.fc2 = nn.Linear(64, 64)                    # second full connection                       \n",
    "        self.fc3 = nn.Linear(64, action_size)           # second fully connected layer to output (what action should be taken)\n",
    "\n",
    "    def forward(self, state):        \n",
    "        x = self.fc1(state)         # propagate signal from the input layer to the first fully\n",
    "        x = F.relu(x)               # connected layer with a rectifier activation function\n",
    "        \n",
    "        x = self.fc2(x)             # propagate signal from the first fully connected layer to the second fully connected layer\n",
    "        x = F.relu(x)\n",
    "\n",
    "        return self.fc3(x)          # return the output layer containting the possible actions\n"
   ]
  },
  {
   "cell_type": "markdown",
   "metadata": {},
   "source": [
    "## Part 2 - Training the AI"
   ]
  },
  {
   "cell_type": "markdown",
   "metadata": {},
   "source": [
    "### Setting up the environment"
   ]
  },
  {
   "cell_type": "code",
   "execution_count": 3,
   "metadata": {},
   "outputs": [
    {
     "name": "stdout",
     "output_type": "stream",
     "text": [
      "State shape:  (8,)\n",
      "State size:  8\n",
      "Number of actions:  4\n"
     ]
    }
   ],
   "source": [
    "import gymnasium as gym\n",
    "env = gym.make('LunarLander-v3')\n",
    "state_shape = env.observation_space.shape\n",
    "state_size = env.observation_space.shape[0]\n",
    "number_actions = env.action_space.n\n",
    "print('State shape: ', state_shape)\n",
    "print('State size: ', state_size)\n",
    "print('Number of actions: ', number_actions)"
   ]
  },
  {
   "cell_type": "markdown",
   "metadata": {},
   "source": [
    "### Initializing the hyperparameters"
   ]
  },
  {
   "cell_type": "code",
   "execution_count": 4,
   "metadata": {},
   "outputs": [],
   "source": [
    "learning_rate = 5e-4            # Why? Trial and error experimentation\n",
    "minibatch_size = 100            # Common practice for deep q-learning\n",
    "discount_factor = 0.99          # Close to 1, so that the agent considers future rewards instead of being shortsighted\n",
    "replay_buffer_size = int(1e5)   # Memory of the agent (How many experiences, states, rewards etc are stored in the agent)\n",
    "interpolation_param = 1e-3      # Again, experimentally determined to be optimal **Look up how it is determined**"
   ]
  },
  {
   "cell_type": "markdown",
   "metadata": {},
   "source": [
    "### Implementing Experience Replay"
   ]
  },
  {
   "cell_type": "code",
   "execution_count": 5,
   "metadata": {},
   "outputs": [],
   "source": [
    "class ReplayMemory(object):\n",
    "\n",
    "    def __init__(self, capacity):\n",
    "        self.device = torch.device('cuda:0' if torch.cuda.is_available() else 'cpu')\n",
    "        self.capacity = capacity\n",
    "        self.memory = []\n",
    "    \n",
    "    # Method to add experiences to the replay memory buffer, while checking that the memory is not exceeded\n",
    "    def push(self, event):\n",
    "        self.memory.append(event)\n",
    "        if len(self.memory) > self.capacity:\n",
    "            del self.memory[0]\n",
    "            # Note to self: I think using linked lists instead of a list for memory would be a lot more efficient here... look it up\n",
    "\n",
    "    # Method to randomly select/sample a batch of experiences from the replay memory buffer\n",
    "    def sample(self, batch_size):\n",
    "        experiences = random.sample(self.memory, k = batch_size)\n",
    "        states = torch.from_numpy(np.vstack([e[0] for e in experiences if e is not None])).float().to(self.device)\n",
    "        actions = torch.from_numpy(np.vstack([e[1] for e in experiences if e is not None])).long().to(self.device) \n",
    "        rewards = torch.from_numpy(np.vstack([e[2] for e in experiences if e is not None])).float().to(self.device)\n",
    "        next_states = torch.from_numpy(np.vstack([e[3] for e in experiences if e is not None])).float().to(self.device)\n",
    "        dones = torch.from_numpy(np.vstack([e[4] for e in experiences if e is not None]).astype(np.uint8)).float().to(self.device)\n",
    "        return states, next_states, actions, rewards, dones\n",
    "        \n"
   ]
  },
  {
   "cell_type": "markdown",
   "metadata": {},
   "source": [
    "### Implementing the DQN class"
   ]
  },
  {
   "cell_type": "code",
   "execution_count": 6,
   "metadata": {},
   "outputs": [],
   "source": [
    "class Agent():\n",
    "\n",
    "    def __init__(self, state_size, action_size):\n",
    "        self.device = torch.device('cuda:0' if torch.cuda.is_available() else 'cpu')\n",
    "        self.state_size = state_size\n",
    "        self.action_size = action_size\n",
    "        self.local_qnetwork = Network(state_size, action_size).to(self.device)\n",
    "        self.target_qnetwork = Network(state_size, action_size).to(self.device)\n",
    "        self.optimizer = optim.Adam(self.local_qnetwork.parameters(), lr = learning_rate)\n",
    "        self.memory = ReplayMemory(replay_buffer_size)\n",
    "        self.t_step = 0\n",
    "\n",
    "    def step(self, state, action, reward, next_state, done):\n",
    "        self.memory.push((state, action, reward, next_state, done))\n",
    "        self.t_step = (self.t_step + 1) % 4\n",
    "        if self.t_step == 0:\n",
    "            if len(self.memory.memory) > minibatch_size:\n",
    "                experiences = self.memory.sample(100)\n",
    "                self.learn(experiences, discount_factor)\n",
    "\n",
    "    def act(self, state, epsilon = 0.):\n",
    "        state = torch.from_numpy(state).float().unsqueeze(0).to(self.device)\n",
    "        self.local_qnetwork.eval()\n",
    "        with torch.no_grad():\n",
    "            action_values = self.local_qnetwork(state)\n",
    "        self.local_qnetwork.train()\n",
    "        if random.random() > epsilon:\n",
    "            return np.argmax(action_values.cpu().data.numpy())\n",
    "        else:\n",
    "            return random.choice(np.arange(self.action_size))\n",
    "        \n",
    "    def learn(self, experiences, discount_factor):\n",
    "        states, next_states, actions, rewards, dones = experiences\n",
    "        next_q_targets = self.target_qnetwork(next_states).detach().max(1)[0].unsqueeze(1)\n",
    "        q_targets = rewards + (discount_factor * next_q_targets * (1 - dones))\n",
    "        q_expected = self.local_qnetwork(states).gather(1, actions)\n",
    "        loss = F.mse_loss(q_expected, q_targets)\n",
    "        self.optimizer.zero_grad()\n",
    "        loss.backward() #back-propagation\n",
    "        self.optimizer.step() #Perform the optimization step to update the model parameters\n",
    "        # Modify the target network parameters \n",
    "        self.soft_update(self.local_qnetwork, self.target_qnetwork, interpolation_param) \n",
    "\n",
    "    # Softly update the target parameters with the weighted average of the local parameters and target parameters\n",
    "    def soft_update(self, local_model, target_model, interpolation_parameter):\n",
    "        for target_param, local_param in zip(target_model.parameters(), local_model.parameters()):\n",
    "            target_param.data.copy_(interpolation_parameter * local_param.data + (1.0 - interpolation_parameter) * target_param.data)\n",
    "    \n",
    "    # AGENT CLASS IMPLEMENTED\n"
   ]
  },
  {
   "cell_type": "markdown",
   "metadata": {},
   "source": [
    "### Initializing the DQN Agent"
   ]
  },
  {
   "cell_type": "code",
   "execution_count": 7,
   "metadata": {},
   "outputs": [],
   "source": [
    "agent = Agent(state_size, number_actions)"
   ]
  },
  {
   "cell_type": "markdown",
   "metadata": {},
   "source": [
    "### Training the DQN Agent"
   ]
  },
  {
   "cell_type": "code",
   "execution_count": 10,
   "metadata": {},
   "outputs": [
    {
     "name": "stdout",
     "output_type": "stream",
     "text": [
      "Episode 100\tAverage Score: -103.69\n",
      "Episode 200\tAverage Score: -19.356\n",
      "Episode 300\tAverage Score: 59.046\n",
      "Episode 400\tAverage Score: 194.34\n",
      "Episode 423\tAverage Score: 201.04\n",
      "Environment solved in 323 episodes!\tAverage Score: 201.04\n"
     ]
    }
   ],
   "source": [
    "number_episodes = 2000\n",
    "max_t_steps_per_episode = 1000\n",
    "epsilon_start_value = 1.0\n",
    "epsilon_end_value = 0.01\n",
    "epsilon_decay_value = 0.995\n",
    "epsilon = epsilon_start_value\n",
    "scores_on_100_episodes = deque(maxlen = 100)\n",
    "\n",
    "for episode in range(1, number_episodes + 1):\n",
    "    state, _ = env.reset()\n",
    "    score = 0\n",
    "    for t in range(max_t_steps_per_episode):\n",
    "        action = agent.act(state, epsilon)\n",
    "        next_state, reward, done, _, _ = env.step(action)\n",
    "        agent.step(state, action, reward, next_state, done)\n",
    "        state = next_state\n",
    "        score += reward\n",
    "        if done:\n",
    "            break\n",
    "    scores_on_100_episodes.append(score)\n",
    "    epsilon = max(epsilon_end_value, epsilon_decay_value * epsilon)\n",
    "    print('\\rEpisode {}\\tAverage Score: {:.2f}'.format(episode, np.mean(scores_on_100_episodes)), end = \"\")\n",
    "    if episode % 100 == 0:\n",
    "        print('\\rEpisode {}\\tAverage Score: {:.2f}'.format(episode, np.mean(scores_on_100_episodes)))\n",
    "    if np.mean(scores_on_100_episodes) > 200.0:\n",
    "        print('\\nEnvironment solved in {:d} episodes!\\tAverage Score: {:.2f}'.format(episode - 100, np.mean(scores_on_100_episodes)))\n",
    "        torch.save(agent.local_qnetwork.state_dict(), 'checkpoint.pth')\n",
    "        break"
   ]
  },
  {
   "cell_type": "markdown",
   "metadata": {},
   "source": [
    "## Part 3 - Visualizing the results"
   ]
  },
  {
   "cell_type": "code",
   "execution_count": 11,
   "metadata": {},
   "outputs": [
    {
     "name": "stderr",
     "output_type": "stream",
     "text": [
      "IMAGEIO FFMPEG_WRITER WARNING: input image is not divisible by macro_block_size=16, resizing from (600, 400) to (608, 400) to ensure video compatibility with most codecs and players. To prevent resizing, make your input image divisible by the macro_block_size or set the macro_block_size to 1 (risking incompatibility).\n"
     ]
    },
    {
     "data": {
      "text/html": [
       "<video alt=\"test\" autoplay\n",
       "                loop controls style=\"height: 400px;\">\n",
       "                <source src=\"data:video/mp4;base64,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\" type=\"video/mp4\" />\n",
       "             </video>"
      ],
      "text/plain": [
       "<IPython.core.display.HTML object>"
      ]
     },
     "metadata": {},
     "output_type": "display_data"
    }
   ],
   "source": [
    "import glob\n",
    "import io\n",
    "import base64\n",
    "import imageio\n",
    "from IPython.display import HTML, display\n",
    "from gymnasium.wrappers import RecordVideo\n",
    "\n",
    "\n",
    "\n",
    "def show_video_of_model(agent, env_name):\n",
    "    env = gym.make(env_name, render_mode = 'rgb_array')\n",
    "    state, _ = env.reset()\n",
    "    done = False\n",
    "    frames = []\n",
    "    while not done:\n",
    "        frame = env.render()\n",
    "        frames.append(frame)\n",
    "        action = agent.act(state)\n",
    "        state, reward, done, _, _ = env.step(action.item())\n",
    "    env.close()\n",
    "    imageio.mimsave('video.mp4', frames, fps = 30, format = 'FFMPEG')\n",
    "\n",
    "show_video_of_model(agent, 'LunarLander-v3')\n",
    "\n",
    "def show_video():\n",
    "    mp4list = glob.glob('*.mp4')\n",
    "    if len(mp4list) > 0:\n",
    "        mp4 = mp4list[0]\n",
    "        video = io.open(mp4, 'r+b').read()\n",
    "        encoded = base64.b64encode(video)\n",
    "        display(HTML(data='''<video alt=\"test\" autoplay\n",
    "                loop controls style=\"height: 400px;\">\n",
    "                <source src=\"data:video/mp4;base64,{0}\" type=\"video/mp4\" />\n",
    "             </video>'''.format(encoded.decode('ascii'))))\n",
    "    else:\n",
    "        print(\"Could not find video\")\n",
    "\n",
    "show_video()"
   ]
  },
  {
   "cell_type": "markdown",
   "metadata": {},
   "source": []
  }
 ],
 "metadata": {
  "kernelspec": {
   "display_name": "Python 3 (ipykernel)",
   "language": "python",
   "name": "python3"
  },
  "language_info": {
   "codemirror_mode": {
    "name": "ipython",
    "version": 3
   },
   "file_extension": ".py",
   "mimetype": "text/x-python",
   "name": "python",
   "nbconvert_exporter": "python",
   "pygments_lexer": "ipython3",
   "version": "3.11.5"
  }
 },
 "nbformat": 4,
 "nbformat_minor": 2
}
